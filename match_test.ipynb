{
 "cells": [
  {
   "cell_type": "code",
   "execution_count": 28,
   "metadata": {},
   "outputs": [],
   "source": [
    "import importlib\n",
    "import os\n",
    "import cellmask_model\n",
    "importlib.reload(cellmask_model)\n",
    "from cellmask_model import CellMaskModel\n",
    "import matplotlib.pyplot as plt\n",
    "import data_acquiring\n",
    "importlib.reload(data_acquiring)\n",
    "from data_acquiring import import_images\n",
    "import numpy as np\n"
   ]
  },
  {
   "cell_type": "code",
   "execution_count": 29,
   "metadata": {},
   "outputs": [],
   "source": [
    "images_path = os.getcwd() + '/812_plate/'\n",
    "images = import_images(images_path,normalisation=True,num_imgs=1)"
   ]
  },
  {
   "cell_type": "code",
   "execution_count": 30,
   "metadata": {},
   "outputs": [],
   "source": [
    "# Getting model\n",
    "model = CellMaskModel()\n",
    "model.import_model(os.getcwd() + '/saved_model/cp_model_2', os.getcwd() + '/saved_model/mask_model_2')"
   ]
  },
  {
   "cell_type": "code",
   "execution_count": 31,
   "metadata": {},
   "outputs": [],
   "source": [
    "instance_masks, masks, cps, encFeats_cps, encFeats_masks = model.eval(images) #Making predictions"
   ]
  },
  {
   "cell_type": "code",
   "execution_count": 37,
   "metadata": {},
   "outputs": [
    {
     "name": "stdout",
     "output_type": "stream",
     "text": [
      "(1, 16, 256, 256)\n"
     ]
    }
   ],
   "source": [
    "encFeats_cps_arr = encFeats_cps[0][0].detach().numpy()\n",
    "print(encFeats_cps_arr.shape)"
   ]
  },
  {
   "cell_type": "code",
   "execution_count": 50,
   "metadata": {},
   "outputs": [
    {
     "name": "stdout",
     "output_type": "stream",
     "text": [
      "3\n"
     ]
    }
   ],
   "source": [
    "print(len(encFeats_cps[24]))"
   ]
  },
  {
   "cell_type": "code",
   "execution_count": 47,
   "metadata": {},
   "outputs": [
    {
     "name": "stdout",
     "output_type": "stream",
     "text": [
      "torch.Size([1, 16, 256, 256])\n",
      "torch.Size([1, 32, 128, 128])\n",
      "torch.Size([1, 64, 64, 64])\n"
     ]
    },
    {
     "ename": "RuntimeError",
     "evalue": "The size of tensor a (256) must match the size of tensor b (128) at non-singleton dimension 3",
     "output_type": "error",
     "traceback": [
      "\u001b[1;31m---------------------------------------------------------------------------\u001b[0m",
      "\u001b[1;31mRuntimeError\u001b[0m                              Traceback (most recent call last)",
      "Cell \u001b[1;32mIn[47], line 11\u001b[0m\n\u001b[0;32m      9\u001b[0m \u001b[39mprint\u001b[39m(tensor[\u001b[39m1\u001b[39m]\u001b[39m.\u001b[39mshape)\n\u001b[0;32m     10\u001b[0m \u001b[39mprint\u001b[39m(tensor[\u001b[39m2\u001b[39m]\u001b[39m.\u001b[39mshape)\n\u001b[1;32m---> 11\u001b[0m array_product \u001b[39m=\u001b[39m tensor[\u001b[39m0\u001b[39;49m] \u001b[39m*\u001b[39;49m tensor[\u001b[39m1\u001b[39;49m] \u001b[39m*\u001b[39m tensor[\u001b[39m2\u001b[39m]\n\u001b[0;32m     13\u001b[0m \u001b[39m# append the resulting array to a list\u001b[39;00m\n\u001b[0;32m     14\u001b[0m result_arrays\u001b[39m.\u001b[39mappend(array_product)\n",
      "\u001b[1;31mRuntimeError\u001b[0m: The size of tensor a (256) must match the size of tensor b (128) at non-singleton dimension 3"
     ]
    }
   ],
   "source": [
    "import numpy as np\n",
    "\n",
    "# assume the list of tensors is called 'tensor_list'\n",
    "result_arrays = []\n",
    "for tensor in encFeats_cps:\n",
    "    # assume the three arrays in each tensor have the same shape,\n",
    "    # and multiply them element-wise\n",
    "    print(tensor[0].shape)\n",
    "    print(tensor[1].shape)\n",
    "    print(tensor[2].shape)\n",
    "    array_product = tensor[0] * tensor[1] * tensor[2]\n",
    "    \n",
    "    # append the resulting array to a list\n",
    "    result_arrays.append(array_product)\n",
    "    \n",
    "# concatenate the list of arrays into one numpy array\n",
    "result_array = np.concatenate(result_arrays, axis=0)"
   ]
  }
 ],
 "metadata": {
  "kernelspec": {
   "display_name": "unetenv",
   "language": "python",
   "name": "python3"
  },
  "language_info": {
   "codemirror_mode": {
    "name": "ipython",
    "version": 3
   },
   "file_extension": ".py",
   "mimetype": "text/x-python",
   "name": "python",
   "nbconvert_exporter": "python",
   "pygments_lexer": "ipython3",
   "version": "3.9.16"
  },
  "orig_nbformat": 4
 },
 "nbformat": 4,
 "nbformat_minor": 2
}
