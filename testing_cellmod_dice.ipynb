{
 "cells": [
  {
   "cell_type": "code",
   "execution_count": null,
   "metadata": {},
   "outputs": [],
   "source": [
    "from cellmask_model import CellMaskModel\n",
    "import os\n",
    "import cellmask_model\n",
    "import importlib\n",
    "importlib.reload(cellmask_model)\n",
    "from cellmask_model import CellMaskModel, dice_evaluate\n",
    "\n",
    "\n",
    "\n",
    "#first_path = os.getcwd() + '/saved_model/cp_model'\n",
    "#second_path = os.getcwd() + '/saved_model/mask_model'\n",
    "#model.import_model(first_path_new_mode,second_path)\n",
    "\n",
    "\n",
    "\n",
    "\n",
    "#(img, mask) = model.testLoader_img(0)\n",
    "\n",
    "\n",
    "\n",
    "#images = np.array(images)"
   ]
  },
  {
   "cell_type": "code",
   "execution_count": null,
   "metadata": {},
   "outputs": [],
   "source": [
    "images_path = os.getcwd() + '/812_plate/'\n",
    "model = CellMaskModel(device=\"mps\")\n",
    "model.get_data(images_path)\n",
    "first_path_new_model = os.getcwd() + '/saved_model/cp_model_2'\n",
    "second_path_new_model = os.getcwd() + '/saved_model/mask_model_2'"
   ]
  },
  {
   "cell_type": "code",
   "execution_count": null,
   "metadata": {},
   "outputs": [],
   "source": [
    "model.train_models(100)\n",
    "model.save_model(first_path_new_model, second_path_new_model)"
   ]
  },
  {
   "cell_type": "code",
   "execution_count": null,
   "metadata": {},
   "outputs": [],
   "source": [
    "print(dice_evaluate(model))"
   ]
  },
  {
   "cell_type": "code",
   "execution_count": null,
   "metadata": {},
   "outputs": [],
   "source": [
    "import numpy as np\n",
    "import tifffile\n",
    "\n",
    "def import_images(images_path,num_imgs=20):\n",
    "    images = [np.squeeze(tifffile.imread(images_path + str(i) + '.tif')) for i in range(num_imgs)]\n",
    "    return images\n",
    "\n",
    "images = import_images(images_path)\n",
    "imgs = [(image-np.min(image))/(np.max(image)-np.min(image)) for image in images]"
   ]
  },
  {
   "cell_type": "code",
   "execution_count": null,
   "metadata": {},
   "outputs": [],
   "source": [
    "import matplotlib.pyplot as plt\n",
    "img = imgs[2][:,:,0]\n",
    "pred = model.eval(img)\n",
    "print(model.dice_coeff(img,pred))\n",
    "print(np.unique(pred))\n",
    "\n",
    "plt.subplot(1,2,1)\n",
    "plt.imshow(img)\n",
    "plt.subplot(1,2,2)\n",
    "plt.imshow(pred)\n",
    "plt.show()"
   ]
  }
 ],
 "metadata": {
  "kernelspec": {
   "display_name": "Python 3.8.15 ('unetenv')",
   "language": "python",
   "name": "python3"
  },
  "language_info": {
   "name": "python",
   "version": "3.8.15"
  },
  "orig_nbformat": 4,
  "vscode": {
   "interpreter": {
    "hash": "280ed48e36fe3f4f3a0ab83ba03aebb1851d8eef3c2c2bd3d47cb51f80f6c7ba"
   }
  }
 },
 "nbformat": 4,
 "nbformat_minor": 2
}
