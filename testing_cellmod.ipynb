{
 "cells": [
  {
   "cell_type": "code",
   "execution_count": 14,
   "metadata": {},
   "outputs": [],
   "source": [
    "from cellmask_model import CellMaskModel\n",
    "import os\n",
    "import cellmask_model\n",
    "import importlib\n",
    "importlib.reload(cellmask_model)\n",
    "from cellmask_model import CellMaskModel, dice_evaluate"
   ]
  },
  {
   "cell_type": "code",
   "execution_count": 15,
   "metadata": {},
   "outputs": [],
   "source": [
    "images_path = os.getcwd() + '/812_plate/'\n",
    "model = CellMaskModel(device=\"cuda:0\")"
   ]
  },
  {
   "cell_type": "code",
   "execution_count": 4,
   "metadata": {},
   "outputs": [
    {
     "name": "stdout",
     "output_type": "stream",
     "text": [
      "importing images\n",
      "(5, 1080, 1080, 4)\n",
      "(5, 1080, 1080, 4)\n",
      "imported images successfully\n",
      "getting model\n"
     ]
    },
    {
     "name": "stderr",
     "output_type": "stream",
     "text": [
      "100%|██████████| 25.3M/25.3M [00:02<00:00, 10.9MB/s]\n"
     ]
    },
    {
     "name": "stdout",
     "output_type": "stream",
     "text": [
      "got model\n",
      "getting data\n",
      "got data\n"
     ]
    },
    {
     "name": "stderr",
     "output_type": "stream",
     "text": [
      "c:\\Users\\rz200\\Documents\\development\\u_net_exploration\\data_acquiring.py:41: VisibleDeprecationWarning: Creating an ndarray from ragged nested sequences (which is a list-or-tuple of lists-or-tuples-or ndarrays with different lengths or shapes) is deprecated. If you meant to do this, you must specify 'dtype=object' when creating the ndarray.\n",
      "  flows = np.array(flows)\n",
      "c:\\Users\\rz200\\Documents\\development\\u_net_exploration\\data_acquiring.py:153: UserWarning: Creating a tensor from a list of numpy.ndarrays is extremely slow. Please consider converting the list to a single numpy.ndarray with numpy.array() before converting to a tensor. (Triggered internally at  C:\\actions-runner\\_work\\pytorch\\pytorch\\builder\\windows\\pytorch\\torch\\csrc\\utils\\tensor_new.cpp:210.)\n",
      "  imgs_aug = torch.tensor(imgs_aug)\n"
     ]
    }
   ],
   "source": [
    "model.get_data(images_path)"
   ]
  },
  {
   "cell_type": "code",
   "execution_count": 18,
   "metadata": {},
   "outputs": [
    {
     "name": "stdout",
     "output_type": "stream",
     "text": [
      "[INFO] training the network...\n",
      "num epochs: 10\n",
      "learning rate: 0.001\n",
      "loss: mse\n"
     ]
    },
    {
     "ename": "TypeError",
     "evalue": "object of type 'NoneType' has no len()",
     "output_type": "error",
     "traceback": [
      "\u001b[1;31m---------------------------------------------------------------------------\u001b[0m",
      "\u001b[1;31mTypeError\u001b[0m                                 Traceback (most recent call last)",
      "Cell \u001b[1;32mIn[18], line 4\u001b[0m\n\u001b[0;32m      1\u001b[0m first_path_new_model \u001b[39m=\u001b[39m os\u001b[39m.\u001b[39mgetcwd() \u001b[39m+\u001b[39m \u001b[39m'\u001b[39m\u001b[39m/saved_model/cp_model_2\u001b[39m\u001b[39m'\u001b[39m\n\u001b[0;32m      2\u001b[0m second_path_new_model \u001b[39m=\u001b[39m os\u001b[39m.\u001b[39mgetcwd() \u001b[39m+\u001b[39m \u001b[39m'\u001b[39m\u001b[39m/saved_model/mask_model_2\u001b[39m\u001b[39m'\u001b[39m\n\u001b[1;32m----> 4\u001b[0m model\u001b[39m.\u001b[39;49mtrain_models(\u001b[39m10\u001b[39;49m)\n\u001b[0;32m      5\u001b[0m model\u001b[39m.\u001b[39msave_model(first_path_new_model, second_path_new_model)\n",
      "File \u001b[1;32mc:\\Users\\rz200\\Documents\\development\\u_net_exploration\\cellmask_model.py:39\u001b[0m, in \u001b[0;36mCellMaskModel.train_models\u001b[1;34m(self, num_epochs, learning_rate)\u001b[0m\n\u001b[0;32m     38\u001b[0m \u001b[39mdef\u001b[39;00m \u001b[39mtrain_models\u001b[39m(\u001b[39mself\u001b[39m,num_epochs,learning_rate\u001b[39m=\u001b[39m\u001b[39m0.001\u001b[39m):\n\u001b[1;32m---> 39\u001b[0m     \u001b[39mself\u001b[39m\u001b[39m.\u001b[39munet_cp \u001b[39m=\u001b[39m train_model(\u001b[39mself\u001b[39;49m\u001b[39m.\u001b[39;49munet_cp,\u001b[39mself\u001b[39;49m\u001b[39m.\u001b[39;49mtrainLoader_img,\u001b[39mself\u001b[39;49m\u001b[39m.\u001b[39;49mtestLoader_img,learning_rate\u001b[39m=\u001b[39;49mlearning_rate,num_epochs\u001b[39m=\u001b[39;49mnum_epochs,device\u001b[39m=\u001b[39;49m\u001b[39mself\u001b[39;49m\u001b[39m.\u001b[39;49mdevice,loss\u001b[39m=\u001b[39;49m\u001b[39m\"\u001b[39;49m\u001b[39mmse\u001b[39;49m\u001b[39m\"\u001b[39;49m)\n\u001b[0;32m     40\u001b[0m     \u001b[39m#self.unet_mask = train_model(self.unet_mask,self.trainLoader_cp,self.testLoader_cp,learning_rate=learning_rate,num_epochs=num_epochs,device=self.device,loss=\"BCEwithLogits\")\u001b[39;00m\n\u001b[0;32m     41\u001b[0m     \u001b[39mself\u001b[39m\u001b[39m.\u001b[39munet_mask \u001b[39m=\u001b[39m train_model(\u001b[39mself\u001b[39m\u001b[39m.\u001b[39munet_mask,\u001b[39mself\u001b[39m\u001b[39m.\u001b[39mtrainLoader_cp,\u001b[39mself\u001b[39m\u001b[39m.\u001b[39mtestLoader_cp,learning_rate\u001b[39m=\u001b[39mlearning_rate,num_epochs\u001b[39m=\u001b[39mnum_epochs,device\u001b[39m=\u001b[39m\u001b[39mself\u001b[39m\u001b[39m.\u001b[39mdevice,loss\u001b[39m=\u001b[39m\u001b[39m\"\u001b[39m\u001b[39mdice\u001b[39m\u001b[39m\"\u001b[39m)\n",
      "File \u001b[1;32mc:\\Users\\rz200\\Documents\\development\\u_net_exploration\\train_network.py:40\u001b[0m, in \u001b[0;36mtrain_model\u001b[1;34m(unet, trainLoader, testLoader, num_epochs, learning_rate, device, loss)\u001b[0m\n\u001b[0;32m     37\u001b[0m opt \u001b[39m=\u001b[39m Adam(unet\u001b[39m.\u001b[39mparameters(), lr\u001b[39m=\u001b[39mlearning_rate)\n\u001b[0;32m     39\u001b[0m \u001b[39mprint\u001b[39m(\u001b[39m\"\u001b[39m\u001b[39m[INFO] training the network...\u001b[39m\u001b[39m\"\u001b[39m)\n\u001b[1;32m---> 40\u001b[0m \u001b[39mprint\u001b[39m(\u001b[39m'\u001b[39m\u001b[39mnum epochs:\u001b[39m\u001b[39m'\u001b[39m,num_epochs)\n\u001b[0;32m     41\u001b[0m \u001b[39mprint\u001b[39m(\u001b[39m'\u001b[39m\u001b[39mlearning rate:\u001b[39m\u001b[39m'\u001b[39m,learning_rate)\n\u001b[0;32m     42\u001b[0m \u001b[39mprint\u001b[39m(\u001b[39m'\u001b[39m\u001b[39mloss:\u001b[39m\u001b[39m'\u001b[39m,loss)\n",
      "\u001b[1;31mTypeError\u001b[0m: object of type 'NoneType' has no len()"
     ]
    }
   ],
   "source": [
    "first_path_new_model = os.getcwd() + '/saved_model/cp_model_2'\n",
    "second_path_new_model = os.getcwd() + '/saved_model/mask_model_2'\n",
    "\n",
    "model.train_models(10)\n",
    "model.save_model(first_path_new_model, second_path_new_model)"
   ]
  },
  {
   "cell_type": "code",
   "execution_count": 4,
   "metadata": {},
   "outputs": [],
   "source": [
    "#first_path = os.getcwd() + '/saved_model/cp_model'\n",
    "#second_path = os.getcwd() + '/saved_model/mask_model'"
   ]
  },
  {
   "cell_type": "code",
   "execution_count": 111,
   "metadata": {},
   "outputs": [],
   "source": [
    "#model.import_model(first_path_new_mode,second_path)"
   ]
  },
  {
   "cell_type": "code",
   "execution_count": 164,
   "metadata": {},
   "outputs": [
    {
     "name": "stdout",
     "output_type": "stream",
     "text": [
      "im1 shape: (5, 256, 256)\n",
      "im2 shape: (5, 256, 256)\n",
      "im1 shape: (5, 256, 256)\n",
      "im2 shape: (5, 256, 256)\n",
      "im1 shape: (5, 256, 256)\n",
      "im2 shape: (5, 256, 256)\n",
      "im1 shape: (5, 256, 256)\n",
      "im2 shape: (5, 256, 256)\n",
      "im1 shape: (5, 256, 256)\n",
      "im2 shape: (5, 256, 256)\n",
      "im1 shape: (5, 256, 256)\n",
      "im2 shape: (5, 256, 256)\n",
      "im1 shape: (3, 256, 256)\n",
      "im2 shape: (3, 256, 256)\n",
      "0.051926819686884056\n"
     ]
    }
   ],
   "source": [
    "print(dice_evaluate(model))"
   ]
  },
  {
   "cell_type": "code",
   "execution_count": 185,
   "metadata": {},
   "outputs": [],
   "source": [
    "import numpy as np\n",
    "import tifffile\n",
    "\n",
    "def import_images(images_path,num_imgs=20):\n",
    "    images = [np.squeeze(tifffile.imread(images_path + str(i) + '.tif')) for i in range(num_imgs)]\n",
    "    return images\n",
    "\n",
    "images = import_images(images_path)\n",
    "imgs = [(image-np.min(image))/(np.max(image)-np.min(image)) for image in images]"
   ]
  },
  {
   "cell_type": "code",
   "execution_count": 248,
   "metadata": {},
   "outputs": [
    {
     "name": "stdout",
     "output_type": "stream",
     "text": [
      "im1 shape: (1080, 1080)\n",
      "im2 shape: (1080, 1080)\n",
      "0.0\n",
      "[0]\n"
     ]
    },
    {
     "data": {
      "image/png": "[encoded data removed]",
      "text/plain": [
       "<Figure size 640x480 with 3 Axes>"
      ]
     },
     "metadata": {},
     "output_type": "display_data"
    }
   ],
   "source": [
    "import matplotlib.pyplot as plt\n",
    "img = imgs[2][:,:,0]\n",
    "pred, cp_pred = model.eval(img)\n",
    "print(model.dice_coeff(img,pred))\n",
    "print(np.unique(pred))\n",
    "\n",
    "plt.subplot(1,3,1)\n",
    "plt.imshow(img)\n",
    "plt.subplot(1,3,2)\n",
    "plt.imshow(cp_pred)\n",
    "plt.subplot(1,3,3)\n",
    "plt.imshow(pred)\n",
    "plt.show()"
   ]
  },
  {
   "cell_type": "code",
   "execution_count": null,
   "metadata": {},
   "outputs": [],
   "source": []
  },
  {
   "cell_type": "code",
   "execution_count": 9,
   "metadata": {},
   "outputs": [],
   "source": [
    "#(img, mask) = model.testLoader_img(0)\n",
    "\n",
    "images = []\n",
    "masks = []\n",
    "\n",
    "for (img, mask) in model.testLoader_img:\n",
    "    images.append(images)\n",
    "    masks.append(masks)\n",
    "\n",
    "#images = np.array(images)"
   ]
  }
 ],
 "metadata": {
  "kernelspec": {
   "display_name": "unetenv",
   "language": "python",
   "name": "python3"
  },
  "language_info": {
   "codemirror_mode": {
    "name": "ipython",
    "version": 3
   },
   "file_extension": ".py",
   "mimetype": "text/x-python",
   "name": "python",
   "nbconvert_exporter": "python",
   "pygments_lexer": "ipython3",
   "version": "3.8.16"
  },
  "orig_nbformat": 4,
  "vscode": {
   "interpreter": {
    "hash": "0532fcda8c9bf898b23966d3a4c86ed371bcbd27417becf1ed528b792c9741f1"
   }
  }
 },
 "nbformat": 4,
 "nbformat_minor": 2
}
